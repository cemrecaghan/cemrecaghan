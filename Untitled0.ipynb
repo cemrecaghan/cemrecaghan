{
  "nbformat": 4,
  "nbformat_minor": 0,
  "metadata": {
    "colab": {
      "provenance": [],
      "authorship_tag": "ABX9TyPPR+bmoymJ4iFly145Nl4Y",
      "include_colab_link": true
    },
    "kernelspec": {
      "name": "python3",
      "display_name": "Python 3"
    },
    "language_info": {
      "name": "python"
    }
  },
  "cells": [
    {
      "cell_type": "markdown",
      "metadata": {
        "id": "view-in-github",
        "colab_type": "text"
      },
      "source": [
        "<a href=\"https://colab.research.google.com/github/cemrecaghan/cemrecaghan/blob/main/Untitled0.ipynb\" target=\"_parent\"><img src=\"https://colab.research.google.com/assets/colab-badge.svg\" alt=\"Open In Colab\"/></a>"
      ]
    },
    {
      "cell_type": "code",
      "source": [
        "#Python Ödevi 1"
      ],
      "metadata": {
        "id": "IgXICfdQekjg"
      },
      "execution_count": null,
      "outputs": []
    },
    {
      "cell_type": "code",
      "source": [],
      "metadata": {
        "id": "Y_AVEuVnMm2O"
      },
      "execution_count": null,
      "outputs": []
    },
    {
      "cell_type": "markdown",
      "source": [],
      "metadata": {
        "id": "EVYAPzyvetls"
      }
    },
    {
      "cell_type": "code",
      "source": [
        "hall = 11.25\n",
        "kit = 18\n",
        "liv = 20\n",
        "bed = 10.75\n",
        "bath = 9.50\n",
        "\n",
        "areas = [\"hallway\", hall, \"kitchen\", kit, \"livingroom\", liv, \"bedroom\", bed, \"bathroom\", bath]\n",
        "\n",
        " ##altkattadaki odalar\n",
        "altkattakiodalar = areas[0:4]\n",
        "print(altkattakiodalar)\n",
        "\n",
        "\n"
      ],
      "metadata": {
        "id": "_8ia37K9evhT",
        "colab": {
          "base_uri": "https://localhost:8080/"
        },
        "outputId": "8533ba9b-d3e4-4d3b-dd97-a0b3ad27fd11"
      },
      "execution_count": null,
      "outputs": [
        {
          "output_type": "stream",
          "name": "stdout",
          "text": [
            "['hallway', 11.25, 'kitchen', 18]\n"
          ]
        }
      ]
    },
    {
      "cell_type": "markdown",
      "source": [],
      "metadata": {
        "id": "utMXJZ_7eohX"
      }
    },
    {
      "cell_type": "code",
      "source": [
        "hall = 11.25\n",
        "kit = 18\n",
        "liv = 20\n",
        "bed = 10.75\n",
        "bath = 9.50\n",
        "\n",
        "areas = [\"hallway\", hall, \"kitchen\", kit, \"livingroom\", liv, \"bedroom\", bed, \"bathroom\", bath]\n",
        "\n",
        "##üstkattakiodalar\n",
        "üstkattakiodalar=areas[4:]\n",
        "print(üstkattakiodalar)\n",
        "\n"
      ],
      "metadata": {
        "colab": {
          "base_uri": "https://localhost:8080/"
        },
        "outputId": "ce0a298d-ca28-4e76-f9ec-fdd9df6a1fd9",
        "id": "vFqpf8S8jBbh"
      },
      "execution_count": null,
      "outputs": [
        {
          "output_type": "stream",
          "name": "stdout",
          "text": [
            "['livingroom', 20, 'bedroom', 10.75, 'bathroom', 9.5]\n"
          ]
        }
      ]
    },
    {
      "cell_type": "code",
      "source": [
        "#tüm evin toplam odaalarının alanını bulunuz ve bunu \"toplam_alan\" değişkeni olarak isimlendiriniz.\n",
        "toplam_alan= hall+kit+liv+bed+bath\n",
        "print(toplam_alan)"
      ],
      "metadata": {
        "colab": {
          "base_uri": "https://localhost:8080/"
        },
        "id": "7JJG0yz8jfmC",
        "outputId": "ac128b17-eb70-4866-a0b7-185d89237fe6"
      },
      "execution_count": null,
      "outputs": [
        {
          "output_type": "stream",
          "name": "stdout",
          "text": [
            "69.5\n"
          ]
        }
      ]
    },
    {
      "cell_type": "code",
      "source": [
        "# areas adındaki listenizi areas1 adında tekrar kopyalayınız.\n",
        "\n"
      ],
      "metadata": {
        "id": "D0jcVQXsj2sb"
      },
      "execution_count": null,
      "outputs": []
    },
    {
      "cell_type": "code",
      "source": [
        "## areas adındaki listenizi areas1 adında tekrar kopyalayınız\n",
        "\n",
        "hall = 11.25\n",
        "kit = 18\n",
        "liv = 20\n",
        "bed = 10.75\n",
        "bath = 9.50\n",
        "\n",
        "areas = [\"hallway\", hall, \"kitchen\", kit, \"livingroom\", liv, \"bedroom\", bed, \"bathroom\", bath]\n",
        "areas1=areas.copy()\n",
        "print(areas1)\n",
        "\n",
        " ##areas1 listenizdeki bathroom elemanının değerinin 9.5 değil de 10.50 yapalım\n",
        "areas1[9]=10.50\n",
        "print(areas1)\n",
        "# areas1 listenizdeki \"livingroom\" öğesini \"chiil zone\" olarak değiştirelim.\n",
        "areas1[4]='chiilzone'\n",
        "print(areas1)\n",
        "# areas1 listesinin içine \"pool\" ve alanı 24.5 olarak ekleyelim. Elde edilen yeni listeyi areas2 olarak kaydedin.\n",
        "areas2=areas1.copy()\n",
        "areas2.extend(['pool',24.5])\n",
        "print(\"areas2:\",areas2)\n",
        "# areas2 listesinin içine \"garage\" ve alanı 15.45 olarak ekleyelim. Elde edilen yeni listeyi areas3 olarak kaydedin.\n",
        "areas3=areas2.copy()\n",
        "areas3.extend(['garage',15.45])\n",
        "print(\"areas3:\",areas3)\n",
        "#Buarada bir hata oldu! Piyangodan kazandığınız miktar o kadar da büyük değil ve görünüşe göre poolhouse\n",
        "# olmayacak. İlgili dizeyi listeden kaldırmaya karar verdiniz.\n",
        "areas2.remove('pool')\n",
        "areas2.remove(24.5)\n",
        "print(areas2)\n",
        "# en son elde edttiğiniz areas3 listesini kullanarak sadece odaların alanlarını alan bir liste elde ediniz\n",
        "# ve bunu areas4 olarak kaydediniz.\n",
        "areas4=areas3[1::2]\n",
        "print(areas4)\n",
        "# areas4 listesinin minumum değerinin indeksini bulunuz.\n",
        "min_deger=min(areas4)\n",
        "print(\"min_deger:\",min_deger)\n",
        "min_index=areas4.index(min_deger)\n",
        "print(\"min_index:\",min_index)\n",
        "# areas4 listesini küçükten büyüğe doğru sıralayınız.\n",
        "areas4.sort()\n",
        "print(\"küçükten büğyüğe :\",areas4)\n"
      ],
      "metadata": {
        "colab": {
          "base_uri": "https://localhost:8080/"
        },
        "outputId": "8ad28a44-7e08-4948-9813-f25d53b9b914",
        "id": "UqpLzUeTlRCL"
      },
      "execution_count": null,
      "outputs": [
        {
          "output_type": "stream",
          "name": "stdout",
          "text": [
            "['hallway', 11.25, 'kitchen', 18, 'livingroom', 20, 'bedroom', 10.75, 'bathroom', 9.5]\n",
            "['hallway', 11.25, 'kitchen', 18, 'livingroom', 20, 'bedroom', 10.75, 'bathroom', 10.5]\n",
            "['hallway', 11.25, 'kitchen', 18, 'chiilzone', 20, 'bedroom', 10.75, 'bathroom', 10.5]\n",
            "areas2: ['hallway', 11.25, 'kitchen', 18, 'chiilzone', 20, 'bedroom', 10.75, 'bathroom', 10.5, 'pool', 24.5]\n",
            "areas3: ['hallway', 11.25, 'kitchen', 18, 'chiilzone', 20, 'bedroom', 10.75, 'bathroom', 10.5, 'pool', 24.5, 'garage', 15.45]\n",
            "['hallway', 11.25, 'kitchen', 18, 'chiilzone', 20, 'bedroom', 10.75, 'bathroom', 10.5]\n",
            "[11.25, 18, 20, 10.75, 10.5, 24.5, 15.45]\n",
            "min_deger: 10.5\n",
            "min_index: 4\n",
            "küçükten büğyüğe : [10.5, 10.75, 11.25, 15.45, 18, 20, 24.5]\n"
          ]
        }
      ]
    },
    {
      "cell_type": "code",
      "source": [
        "bki=[\"zayıf\",\"normal\",\"normal\",\"hafif şişman\",\"obez\",\"normal\",\"obez\",\n",
        "      \"hafif şişman\",\"normal\"]\n",
        "print(bki)\n",
        "# normal olanların sayısı kaç tanedir? count metodunu kullanabilirsiniz.\n",
        "normal_sayisi=bki.count(\"normal\")\n",
        "print(\"normal olanların sayısı:\",normal_sayisi)\n",
        "# obez olanların sayısı kaç tanedir? count metodunu kullanabilirsiniz.\n",
        "obez_sayisi=bki.count(\"obez\")\n",
        "print(\"obez olanların sayisi:\",obez_sayisi)"
      ],
      "metadata": {
        "colab": {
          "base_uri": "https://localhost:8080/"
        },
        "id": "Ay4ukdUD_76e",
        "outputId": "5c585194-6cb9-448d-d1db-958ae31492ef"
      },
      "execution_count": null,
      "outputs": [
        {
          "output_type": "stream",
          "name": "stdout",
          "text": [
            "['zayıf', 'normal', 'normal', 'hafif şişman', 'obez', 'normal', 'obez', 'hafif şişman', 'normal']\n",
            "normal olanların sayısı: 4\n",
            "obez olanların sayisi: 2\n"
          ]
        }
      ]
    },
    {
      "cell_type": "code",
      "source": [
        "import numpy as np\n",
        "\n",
        "basketball=[200, 210, 185, 190, 195, 180]\n",
        "\n",
        "basketball_cm=np.array(basketball)\n",
        "basketball_cm\n",
        "# elde ettiğiniz basketball_m dizisinin minumum değerini bulunuz. (bunun için bu değişkene atanan metodlara bakabilirsiniz)\n",
        "min_deger=basketball_cm.min()\n",
        "print(\"minimum deger:\",min_deger)\n",
        "# elde ettiğiniz basketball_m dizisinin maksimum değerini bulunuz.(bunun için bu değişkene atanan metodlara bakabilirsiniz)\n",
        "maksimum_deger=basketball_cm.max()\n",
        "print(\"maksimum deger:\",maksimum_deger)\n",
        "# elde ettiğiniz basketball_m dizisinin tüm elemanlarının toplamını bulunuz.(bunun için bu değişkene atanan metodlara bakabilirsiniz)\n",
        "toplam=basketball_cm.sum()\n",
        "print(\"toplam eleman\",toplam)\n",
        "# elde ettiğiniz basketball_m dizisinin tüm elemanlarının ortalamasını bulunuz.(bunun için bu değişkene atanan metodlara bakabilirsiniz)\n",
        "ortalama=basketball_cm.mean()\n",
        "print(\"ortalama:\",ortalama)\n",
        "\n",
        "\n",
        "\n",
        "\n"
      ],
      "metadata": {
        "colab": {
          "base_uri": "https://localhost:8080/"
        },
        "id": "R8v4ZaUPB4If",
        "outputId": "a809e738-3ffd-4a4c-d56e-020dbf4c99ed"
      },
      "execution_count": null,
      "outputs": [
        {
          "output_type": "stream",
          "name": "stdout",
          "text": [
            "minimum deger: 180\n",
            "maksimum deger: 210\n",
            "toplam eleman 1160\n",
            "ortalama: 193.33333333333334\n"
          ]
        }
      ]
    }
  ]
}